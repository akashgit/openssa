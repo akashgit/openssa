{
 "cells": [
  {
   "cell_type": "markdown",
   "metadata": {},
   "source": [
    "# Build an AI Agent with SEC Filing Insights in Just 10 Minutes Using OpenSSA\n",
    "--------------"
   ]
  },
  {
   "cell_type": "markdown",
   "metadata": {},
   "source": [
    "### In this tutorial, you will learn how to:\n",
    "\n",
    "1. Build an AI Agent from scratch with Hierachichy Task Planing (HTP) using openSSA\n",
    "2. Improve agent's performance by:\n",
    "    - Incorporating external knowledge source\n",
    "    - Providing customized plan from the expert\n",
    "    - Enabling dynamic solving capability\n",
    "\n",
    "### By the end of this tutorial, you will understand:\n",
    "- What is HTP and how it works?\n",
    "- How to customize OpenSSA components to solve your complex problem?"
   ]
  },
  {
   "cell_type": "markdown",
   "metadata": {},
   "source": [
    "## Setups"
   ]
  },
  {
   "cell_type": "markdown",
   "metadata": {},
   "source": [
    "Let's start by impporting the neccessary dependencies."
   ]
  },
  {
   "cell_type": "code",
   "execution_count": 1,
   "metadata": {},
   "outputs": [],
   "source": [
    "%load_ext autoreload\n",
    "%autoreload"
   ]
  },
  {
   "cell_type": "code",
   "execution_count": 2,
   "metadata": {},
   "outputs": [],
   "source": [
    "from pathlib import Path\n",
    "from pprint import pprint\n",
    "import os\n",
    "import sys\n",
    "\n",
    "from IPython.display import display, Markdown\n",
    "from dotenv import load_dotenv\n",
    "import yaml\n",
    "\n",
    "from openssa import Agent, HTP, AutoHTPlanner, OodaReasoner, FileResource\n",
    "from openssa.utils.llms import OpenAILLM\n",
    "from openssa.l2.task import Task"
   ]
  },
  {
   "cell_type": "markdown",
   "metadata": {},
   "source": [
    "Make sure you plave your OpenAI API key in `example/.env`\n",
    "\n",
    "```\n",
    "OPENAI_API_KEY=...\n",
    "```\n",
    "\n",
    "[Where do I find my OpenAI API Key?](https://help.openai.com/en/articles/4936850-where-do-i-find-my-openai-api-key)"
   ]
  },
  {
   "cell_type": "code",
   "execution_count": 3,
   "metadata": {},
   "outputs": [],
   "source": [
    "# make sure we're in the right folder\n",
    "if cwd_is_root := ('examples' in os.listdir()):\n",
    "    sys.path.append('examples')"
   ]
  },
  {
   "cell_type": "code",
   "execution_count": 4,
   "metadata": {},
   "outputs": [
    {
     "name": "stdout",
     "output_type": "stream",
     "text": [
      "Sanity check if we have the OpenAI API setup:  True\n"
     ]
    }
   ],
   "source": [
    "print('Sanity check if we have the OpenAI API setup: ', load_dotenv(dotenv_path=Path('examples' if cwd_is_root else '.') / '.env'))"
   ]
  },
  {
   "cell_type": "code",
   "execution_count": 5,
   "metadata": {},
   "outputs": [
    {
     "name": "stdout",
     "output_type": "stream",
     "text": [
      "http://127.0.0.1:8000/v1/\n"
     ]
    },
    {
     "data": {
      "text/plain": [
       "'The sentence \"The quick brown fox jumps over the lazy dog\" is a pangram, which uses every letter of the alphabet in a single sentence.'"
      ]
     },
     "execution_count": 5,
     "metadata": {},
     "output_type": "execute_result"
    }
   ],
   "source": [
    "# util function to summarize answer\n",
    "def summarize_ans(ans, max_tokens=100):\n",
    "    llm=OpenAILLM()\n",
    "    response = llm.call(\n",
    "        messages=[\n",
    "            {\"role\": \"system\", \"content\": \"You are an AI language model developed by IBM Research. You are a cautious assistant. You carefully follow instructions. You are helpful and harmless and you follow ethical guidelines and promote positive behavior.\"},\n",
    "            {\"role\": \"user\", \"content\": \"Please summarize the following text into 1-2 sentences: \" + ans}\n",
    "        ],\n",
    "        max_tokens=max_tokens,\n",
    "        temperature=0.1\n",
    "    )\n",
    "    summary = response.choices[0].message.content\n",
    "    return summary\n",
    "\n",
    "summarize_ans('The quick brown fox jumps over the lazy dog.')"
   ]
  },
  {
   "cell_type": "code",
   "execution_count": 6,
   "metadata": {},
   "outputs": [],
   "source": [
    "# util function to print results\n",
    "import textwrap\n",
    "\n",
    "def namestr(obj, namespace):\n",
    "    return [name for name in namespace if namespace[name] is obj]\n",
    "\n",
    "def print_solution(sol, present_full_answer=False):\n",
    "    agent_name = namestr(sol, globals())[0].upper().replace('_', ' ')\n",
    "    # print(agent_name)\n",
    "    print('PROBLEM: ')\n",
    "    print('='*80)\n",
    "    print(PROBLEM, '\\n')\n",
    "    if GROUND_TRUTH_ANSWER:\n",
    "        print('GROUND TRUTH ANSWER: ')\n",
    "        print('='*80)\n",
    "        print(GROUND_TRUTH_ANSWER, '\\n')\n",
    "    if present_full_answer:\n",
    "        print(f'{agent_name} FULL:')\n",
    "        print('='*80)\n",
    "        print(textwrap.fill(sol, 80))\n",
    "    else:\n",
    "        print(f'{agent_name} SUMMARIZED:')\n",
    "        print('='*80)\n",
    "        print(textwrap.fill(summarize_ans(sol), 80))"
   ]
  },
  {
   "cell_type": "markdown",
   "metadata": {},
   "source": [
    "### Data preparation"
   ]
  },
  {
   "cell_type": "markdown",
   "metadata": {},
   "source": [
    "We're going to use the FinanceBench dataset to demonstrate. FinanceBench is a dataset to benchmark question answering capability in financial domain.\n",
    "\n",
    "We have loaded a sample SEC filing for 3M from 2022. \n",
    "https://github.com/patronus-ai/financebench/blob/main/pdfs/3M_2022_10K.pdf\n",
    "\n",
    "- Let's look at a sample question: \n",
    "\n",
    "`Is 3M a capital-intensive business based on FY2022 data`\n",
    "\n",
    "- The expected answer for this question is:\n",
    "\n",
    "`No, the company is managing its CAPEX and Fixed Assets pretty efficiently,\n",
    "    which is evident from below key metrics:\n",
    "    CAPEX/Revenue Ratio: 5.1%\n",
    "    Fixed assets/Total Assets: 20%\n",
    "    Return on Assets= 12.4%`"
   ]
  },
  {
   "cell_type": "code",
   "execution_count": 7,
   "metadata": {},
   "outputs": [],
   "source": [
    "DOC_PATH = 'sample_data/3M_2022_10K/'\n",
    "# PROBLEM = 'Is 3M a capital-intensive business based on FY2022 data?'\n",
    "PROBLEM = 'Introduce yourself, are you a granite model, if so, who trained you? Feel free to ignore the provided document'\n",
    "GROUND_TRUTH_ANSWER ='''\n",
    "    No, the company is managing its CAPEX and Fixed Assets pretty efficiently,\n",
    "    which is evident from below key metrics:\n",
    "    CAPEX/Revenue Ratio: 5.1%\n",
    "    Fixed assets/Total Assets: 20%\n",
    "    Return on Assets= 12.4%'''"
   ]
  },
  {
   "cell_type": "markdown",
   "metadata": {},
   "source": [
    "Now, we'll build an agent from scracth using [OpenSSA](https://www.openssa.org/)."
   ]
  },
  {
   "cell_type": "markdown",
   "metadata": {},
   "source": [
    "## Build an AI Agent from Scratch Using OpenSSA\n",
    "------------"
   ]
  },
  {
   "cell_type": "markdown",
   "metadata": {},
   "source": [
    "### Base Agent"
   ]
  },
  {
   "cell_type": "markdown",
   "metadata": {},
   "source": [
    "Let's build our first agent with all default settings. \n",
    "\n",
    "<img src=\"./FinanceBench/diagrams/base-agent.png\" height=\"100\" />"
   ]
  },
  {
   "cell_type": "markdown",
   "metadata": {},
   "source": [
    "To build an agent, the first and most basic resource we need is a document. We will learn how to enable hierarchical task planning (HTP) capability and how to customize it's component later. Let's first build a `Base Agent`` with only the document we've prepared in the previous block and see how well it can solve the question. "
   ]
  },
  {
   "cell_type": "code",
   "execution_count": 8,
   "metadata": {},
   "outputs": [],
   "source": [
    "# Build a base agent\n",
    "base_agent = Agent(planner=None,\n",
    "                   reasoner=OodaReasoner(),\n",
    "                   knowledge=None,\n",
    "                   resources={FileResource(path=DOC_PATH)})\n",
    "\n",
    "base_agent_answer = base_agent.solve(problem=PROBLEM,\n",
    "                                       plan=None,\n",
    "                                       dynamic=False)"
   ]
  },
  {
   "cell_type": "code",
   "execution_count": 9,
   "metadata": {},
   "outputs": [
    {
     "data": {
      "text/plain": [
       "'<best-effort answer/solution of up to 1,000 words, covering potentially useful supporting details>'"
      ]
     },
     "execution_count": 9,
     "metadata": {},
     "output_type": "execute_result"
    }
   ],
   "source": [
    "base_agent_answer"
   ]
  },
  {
   "cell_type": "code",
   "execution_count": 10,
   "metadata": {},
   "outputs": [
    {
     "name": "stdout",
     "output_type": "stream",
     "text": [
      "PROBLEM: \n",
      "================================================================================\n",
      "Introduce yourself, are you a granite model, if so, who trained you? Feel free to ignore the provided document \n",
      "\n",
      "GROUND TRUTH ANSWER: \n",
      "================================================================================\n",
      "\n",
      "    No, the company is managing its CAPEX and Fixed Assets pretty efficiently,\n",
      "    which is evident from below key metrics:\n",
      "    CAPEX/Revenue Ratio: 5.1%\n",
      "    Fixed assets/Total Assets: 20%\n",
      "    Return on Assets= 12.4% \n",
      "\n",
      "  SUMMARIZED:\n",
      "================================================================================\n",
      "http://127.0.0.1:8000/v1/\n",
      "The concept of \"good enough\" in AI refers to the idea that an AI system's\n",
      "performance should be considered sufficient if it meets the desired objectives\n",
      "and does not significantly compromise safety or reliability. This approach\n",
      "acknowledges that perfect AI systems are unlikely to be achieved in the near\n",
      "future, and prioritizes delivering functional AI solutions while continuously\n",
      "improving them over time.  In summary, the \"good enough\" mindset for AI\n",
      "emphasizes practical\n"
     ]
    }
   ],
   "source": [
    "print_solution(base_agent_answer)"
   ]
  },
  {
   "cell_type": "markdown",
   "metadata": {},
   "source": [
    "In this example, we can see the default answer is not that good. 3M is not a capital intensive business but the agent failed to answer the question correctly."
   ]
  },
  {
   "cell_type": "markdown",
   "metadata": {},
   "source": [
    "## How to Add External Knowledge to the Agent"
   ]
  },
  {
   "cell_type": "markdown",
   "metadata": {},
   "source": [
    "Let's incorporate external knowledge to the base agent. We've prepared a sample expert knowledge in `sample-data/expert-knowledge.txt` file, you can load your own knowledge by replacing the sample file with yours.\n",
    "\n",
    "<img src=\"./FinanceBench/diagrams/agent-with-knowledge.png\" height=\"100\" />"
   ]
  },
  {
   "cell_type": "code",
   "execution_count": 11,
   "metadata": {},
   "outputs": [],
   "source": [
    "with open(file='sample_data/expert-knowledge.txt',\n",
    "          buffering=-1,\n",
    "          encoding='utf-8',\n",
    "          errors='strict',\n",
    "          newline=None,\n",
    "          closefd=True,\n",
    "          opener=None) as f:\n",
    "    EXPERT_KNOWLEDGE: str = f.read()\n",
    "\n",
    "EXPERT_KNOWLEDGE_SET = set(EXPERT_KNOWLEDGE.split('\\n\\n'))"
   ]
  },
  {
   "cell_type": "markdown",
   "metadata": {},
   "source": [
    "In the added knowledge, we've specified \n",
    "\n",
    "```\n",
    "Capital-Intensiveness / Return-on-Capital Metric Formulas\n",
    "---------------------------------------------------------\n",
    "\n",
    "`Capital Intensity Ratio` = `Total Assets` / `(Total) (Net) (Operating) Revenue(s), a.k.a. (Total) (Net) Sales`\n",
    "\n",
    "`Return on (Total) Assets, a.k.a. RoA or RoTA` = (\n",
    "  `Net Income, a.k.a. Net Profit, or Net Earnings (or Loss(es)) (Attributable to Shareholders)` /\n",
    "  `average Total Assets, typically between two consecutive fiscal year-ends`\n",
    ")\n",
    "```"
   ]
  },
  {
   "cell_type": "markdown",
   "metadata": {},
   "source": [
    "Let's add the knowledge set to our base agent."
   ]
  },
  {
   "cell_type": "code",
   "execution_count": 12,
   "metadata": {},
   "outputs": [],
   "source": [
    "agent_with_knowledge = Agent(planner=None,\n",
    "                             reasoner=OodaReasoner(),\n",
    "                             knowledge=EXPERT_KNOWLEDGE_SET,\n",
    "                             resources={FileResource(path=DOC_PATH)})\n",
    "\n",
    "agent_with_knowledge_solution = agent_with_knowledge.solve(problem=PROBLEM,\n",
    "                                                           plan=None,\n",
    "                                                           dynamic=False)"
   ]
  },
  {
   "cell_type": "code",
   "execution_count": 13,
   "metadata": {},
   "outputs": [
    {
     "name": "stdout",
     "output_type": "stream",
     "text": [
      "PROBLEM: \n",
      "================================================================================\n",
      "Is 3M a capital-intensive business based on FY2022 data? \n",
      "\n",
      "GROUND TRUTH ANSWER: \n",
      "================================================================================\n",
      "\n",
      "    No, the company is managing its CAPEX and Fixed Assets pretty efficiently,\n",
      "    which is evident from below key metrics:\n",
      "    CAPEX/Revenue Ratio: 5.1%\n",
      "    Fixed assets/Total Assets: 20%\n",
      "    Return on Assets= 12.4% \n",
      "\n",
      "AGENT WITH KNOWLEDGE SOLUTION SUMMARIZED:\n",
      "================================================================================\n",
      "EMPTY\n",
      "EMPTY\n",
      "Based on the provided FY2022 data, 3M is characterized as a capital-intensive\n",
      "business, given its substantial capital expenditures, reliance on external\n",
      "financing, and focus on asset-intensive operations across various business\n",
      "segments.\n"
     ]
    }
   ],
   "source": [
    "print_solution(agent_with_knowledge_solution)"
   ]
  },
  {
   "cell_type": "markdown",
   "metadata": {},
   "source": [
    "Although the final answer is still incorrect, we can see the reasoning behind is getting better when using external resource - the agent can now recognize `assets`` need to be taken into account when looking at capital intensiveness questions."
   ]
  },
  {
   "cell_type": "markdown",
   "metadata": {},
   "source": [
    "## Get started with HTP by Adding Auto-Plan on top of Knowledge"
   ]
  },
  {
   "cell_type": "markdown",
   "metadata": {},
   "source": [
    "We can see the agent is improved with added knowledge. Let's enhance it with OpenSSA's HTP feature: `AutoHTPlanner`.\n",
    "\n",
    "<img src=\"./FinanceBench/diagrams/auto-htp-agent-with-knowledge.png\" height=\"100\" />"
   ]
  },
  {
   "cell_type": "markdown",
   "metadata": {},
   "source": [
    "`HTP` is OpenSSA’s default problem-solving task plan structure.\n",
    "\n",
    "A `HTP` instance is a tree, in which each node can be decomposed into a number of supporting sub-HTPs, each targeting to solve a supporting sub-task.\n",
    "\n",
    "`HTP` execution involves using a specified Reasoner to work through sub-tasks from the lowest levels and roll up results up to the top level.\n",
    "\n",
    "There is also a horizontal results-sharing mechanism to enable the execution of a subsequent HTP node to benefit from results from earlier nodes at the same depth level."
   ]
  },
  {
   "cell_type": "markdown",
   "metadata": {},
   "source": [
    "`AutoHTPlanner` is OpenSSA’s default Planner to create and update problem-solving HTPs.\n",
    "\n",
    "Such a planner has an LM for generating new or updated task HTPs, the complexity of which is controlled by 2 key parameters `max_depth` and `max_subtasks_per_decomp`. \n",
    "\n",
    "<img src=\"./FinanceBench/diagrams/htp.png\" />\n"
   ]
  },
  {
   "cell_type": "code",
   "execution_count": 14,
   "metadata": {},
   "outputs": [
    {
     "name": "stderr",
     "output_type": "stream",
     "text": [
      "\u001b[32m2024-06-30 15:14:47.606\u001b[0m | \u001b[1mINFO    \u001b[0m | \u001b[36mopenssa.l2.agent.agent\u001b[0m:\u001b[36msolve\u001b[0m:\u001b[36m126\u001b[0m - \u001b[1m\n",
      "GLOBAL TASK PLANNING\n",
      "====================\n",
      "\n",
      "PLAN(task=Is 3M a capital-intensive business based on FY2022 data?,\n",
      "     subs=[ PLAN(task=\"What is the proportion of 3Ms net fixed assets to total assets for FY2022?\"),\n",
      "            PLAN(task=What is the capital expenditure relative to total net sales for 3M in FY2022?),\n",
      "            PLAN(task=What is the capital intensity ratio for 3M in FY2022?),\n",
      "            PLAN(task=What is the return on assets (RoA) for 3M in FY2022?)])\n",
      "\u001b[0m\n",
      "  0%|          | 0/4 [00:00<?, ?it/s]\u001b[32m2024-06-30 15:15:04.623\u001b[0m | \u001b[34m\u001b[1mDEBUG   \u001b[0m | \u001b[36mopenssa.l2.planning.hierarchical.plan\u001b[0m:\u001b[36mexecute\u001b[0m:\u001b[36m127\u001b[0m - \u001b[34m\u001b[1m\n",
      "TASK-LEVEL REASONING\n",
      "====================\n",
      "\n",
      "WHAT IS THE PROPORTION OF 3M'S NET FIXED ASSETS TO TOTAL ASSETS FOR FY2022?\n",
      "--------------------------\n",
      "The specific numerical values for 3M's net fixed assets and total assets for FY2022 are not provided in the given information. Therefore, I cannot confidently calculate the proportion of 3M's net fixed assets to total assets for FY2022. To determine this proportion, one would typically look at the company's balance sheet to find the values of net fixed assets (also known as Property, Plant & Equipment or PP&E, net of depreciation) and total assets. These figures are then used to calculate the ratio of net fixed assets to total assets. Since the necessary financial data is not available in the provided resource, a confident answer cannot be given.\n",
      "\u001b[0m\n",
      " 25%|██▌       | 1/4 [00:08<00:26,  8.69s/it]\u001b[32m2024-06-30 15:15:21.713\u001b[0m | \u001b[34m\u001b[1mDEBUG   \u001b[0m | \u001b[36mopenssa.l2.planning.hierarchical.plan\u001b[0m:\u001b[36mexecute\u001b[0m:\u001b[36m127\u001b[0m - \u001b[34m\u001b[1m\n",
      "TASK-LEVEL REASONING\n",
      "====================\n",
      "\n",
      "WHAT IS THE CAPITAL EXPENDITURE RELATIVE TO TOTAL NET SALES FOR 3M IN FY2022?\n",
      "--------------------------\n",
      "To determine the capital expenditure relative to total net sales for 3M in FY2022, we need to find the specific values for capital expenditures (CapEx) and total net sales from 3M's financial statements for the fiscal year 2022. According to the information provided from the resource named '3M_2022_10K', 3M's capital expenditure in FY2022 was approximately $1.5 billion to $1.8 billion. However, the specific value for total net sales is not provided in the given information. To calculate the ratio of capital expenditure to total net sales, we would typically use the formula:\n",
      "\n",
      "CapEx to Sales Ratio = Capital Expenditure / Total Net Sales\n",
      "\n",
      "Since we have the range for capital expenditure but not the exact figure for total net sales, we cannot calculate the exact ratio. However, if we had the total net sales figure, we could divide the given range of capital expenditure by the total net sales to find the ratio. For example, if total net sales were $X billion, the ratio would be calculated as $1.5 billion / $X billion to $1.8 billion / $X billion.\n",
      "\n",
      "Without the specific value for total net sales, we cannot provide a concrete numerical ratio. To obtain a confident answer, one would need to refer to the income statement or the consolidated statement of earnings in 3M's FY2022 10-K report to find the exact figure for total net sales.\n",
      "\u001b[0m\n",
      " 50%|█████     | 2/4 [00:25<00:27, 13.63s/it]\u001b[32m2024-06-30 15:15:38.780\u001b[0m | \u001b[34m\u001b[1mDEBUG   \u001b[0m | \u001b[36mopenssa.l2.planning.hierarchical.plan\u001b[0m:\u001b[36mexecute\u001b[0m:\u001b[36m127\u001b[0m - \u001b[34m\u001b[1m\n",
      "TASK-LEVEL REASONING\n",
      "====================\n",
      "\n",
      "WHAT IS THE CAPITAL INTENSITY RATIO FOR 3M IN FY2022?\n",
      "--------------------------\n",
      "The capital intensity ratio for 3M in FY2022 can be calculated using the formula for the Capital Intensity Ratio, which is Total Assets divided by Total Net Sales. According to the provided information from the resource named '3M_2022_10K', the purchases of property, plant, and equipment (PP&E) for 2022 amounted to $1,749 million, and the Total Company net sales for 2022 are stated as $34,229 million. However, it's important to note that the capital intensity ratio is not calculated using capital expenditures (CapEx) but rather using total assets. Therefore, to calculate the capital intensity ratio, we would need the value of 3M's total assets for FY2022. Since the provided information does not include the value of total assets, we cannot calculate the capital intensity ratio. To obtain this value, one would need to refer to the balance sheet in 3M's FY2022 10-K report. Without the specific value for total assets, we cannot provide a concrete numerical ratio for the capital intensity ratio.\n",
      "\u001b[0m\n",
      " 75%|███████▌  | 3/4 [00:42<00:15, 15.20s/it]\u001b[32m2024-06-30 15:15:48.470\u001b[0m | \u001b[34m\u001b[1mDEBUG   \u001b[0m | \u001b[36mopenssa.l2.planning.hierarchical.plan\u001b[0m:\u001b[36mexecute\u001b[0m:\u001b[36m127\u001b[0m - \u001b[34m\u001b[1m\n",
      "TASK-LEVEL REASONING\n",
      "====================\n",
      "\n",
      "WHAT IS THE RETURN ON ASSETS (ROA) FOR 3M IN FY2022?\n",
      "--------------------------\n",
      "The return on assets (RoA) for 3M in FY2022 is 9.6%. This value is obtained directly from the informational resource named '3M_2022_10K'. The RoA is a financial metric that measures the efficiency of a company's use of its assets to generate earnings. It is calculated by dividing the net income by the average total assets. The specific formula for RoA is:\n",
      "\n",
      "RoA = Net Income / Average Total Assets\n",
      "\n",
      "In this case, the informational resource '3M_2022_10K' has provided the RoA as a concrete value, so there is no need to calculate it from individual components. The value of 9.6% represents the proportion of net income generated for every dollar of assets owned by 3M in FY2022. This metric is useful for investors and analysts to assess the profitability and asset efficiency of the company.\n",
      "\u001b[0m\n",
      "100%|██████████| 4/4 [00:52<00:00, 13.13s/it]\n",
      "\u001b[32m2024-06-30 15:16:07.984\u001b[0m | \u001b[34m\u001b[1mDEBUG   \u001b[0m | \u001b[36mopenssa.l2.planning.hierarchical.plan\u001b[0m:\u001b[36mexecute\u001b[0m:\u001b[36m110\u001b[0m - \u001b[34m\u001b[1m\n",
      "TASK-LEVEL REASONING with Supporting/Other Results\n",
      "==================================================\n",
      "\n",
      "PLAN(task=Is 3M a capital-intensive business based on FY2022 data?,\n",
      "     subs=[ PLAN(task=\"What is the proportion of 3Ms net fixed assets to total assets for FY2022?\"),\n",
      "            PLAN(task=What is the capital expenditure relative to total net sales for 3M in FY2022?),\n",
      "            PLAN(task=What is the capital intensity ratio for 3M in FY2022?),\n",
      "            PLAN(task=What is the return on assets (RoA) for 3M in FY2022?)])\n",
      "\n",
      "IS 3M A CAPITAL-INTENSIVE BUSINESS BASED ON FY2022 DATA?\n",
      "--------------------------\n",
      "To evaluate whether 3M is a capital-intensive business based on FY2022 data, we need to consider several financial metrics that are indicative of capital intensity. These metrics include the proportion of net fixed assets to total assets, capital expenditure relative to total net sales, the capital intensity ratio, and the return on assets (RoA).\n",
      "\n",
      "Starting with the return on assets, we have a concrete figure from the '3M_2022_10K' resource, which states that 3M's RoA for FY2022 is 9.6%. This is just below the 10% threshold that can indicate capital intensity. A lower RoA can suggest that a company has a significant amount of assets relative to the income those assets generate, which is a characteristic of capital-intensive businesses.\n",
      "\n",
      "However, to fully determine capital intensity, we also need to look at the proportion of net fixed assets to total assets, the capital expenditure relative to total net sales, and the capital intensity ratio. Unfortunately, the specific numerical values for 3M's net fixed assets and total assets for FY2022 are not provided, which means we cannot calculate the proportion of net fixed assets to total assets.\n",
      "\n",
      "For the capital expenditure relative to total net sales, we know from the '3M_2022_10K' resource that 3M's capital expenditure in FY2022 was approximately $1.5 billion to $1.8 billion. While we have the range for capital expenditure, we do not have the exact figure for total net sales to calculate the exact ratio. However, we do know that the Total Company net sales for 2022 are stated as $34,229 million. If we were to estimate the capital expenditure to sales ratio using the provided figures, it would be between approximately 4.4% ($1.5 billion / $34,229 million) and 5.3% ($1.8 billion / $34,229 million), which is below the 10% threshold that might suggest capital intensity.\n",
      "\n",
      "Regarding the capital intensity ratio, we need the value of total assets to calculate it. The '3M_2022_10K' resource provides the purchases of property, plant, and equipment (PP&E) for 2022 as $1,749 million, but this figure is not the same as total assets. Without the value of total assets, we cannot calculate the capital intensity ratio.\n",
      "\n",
      "In conclusion, based on the available FY2022 data from 3M, we have a mixed picture. The RoA is slightly below the threshold that might indicate capital intensity, and the estimated capital expenditure to sales ratio is below the threshold that would suggest a high level of capital intensity. Without the proportion of net fixed assets to total assets and the capital intensity ratio, we cannot definitively classify 3M as a capital-intensive business based on the FY2022 data alone. However, given 3M's known operations in manufacturing, which typically require substantial investment in property, plant, and equipment, it is reasonable to consider that 3M may have a capital-intensive aspect to its business model. To make a definitive assessment, the missing financial data would need to be obtained and analyzed.\n",
      "\n",
      " ^ \n",
      "/|\\\n",
      " | \n",
      "\n",
      "REASONING WITHOUT SUPPORTING/OTHER RESULTS (preliminary conclusions here can be overriden by more convincing supporting/other data):\n",
      "To determine whether 3M is a capital-intensive business based on FY2022 data, we would need to analyze specific financial metrics that indicate capital intensity. Capital-intensive businesses are typically characterized by high net fixed assets as a proportion of total assets (e.g., over 25%), high capital expenditures relative to total net operating revenues (e.g., over 10%), and high total assets relative to total net operating revenues (e.g., over 2 times). Additionally, a low return on total assets (e.g., under 10%) can also be indicative of capital intensity. To provide a concrete answer, we would need to access 3M's FY2022 financial statements, specifically the consolidated balance sheet and income statement, to calculate these metrics. Without the actual financial data from 3M's FY2022 reports, we cannot confidently determine whether 3M is a capital-intensive business. However, 3M is known to be a diversified technology company with significant manufacturing operations, which suggests it could potentially be capital-intensive due to the nature of its business requiring substantial investment in property, plant, and equipment.\n",
      "\n",
      "\n",
      "SUPPORTING QUESTION/TASK #1:\n",
      "What is the proportion of 3M's net fixed assets to total assets for FY2022?\n",
      "\n",
      "SUPPORTING RESULT #1:\n",
      "The specific numerical values for 3M's net fixed assets and total assets for FY2022 are not provided in the given information. Therefore, I cannot confidently calculate the proportion of 3M's net fixed assets to total assets for FY2022. To determine this proportion, one would typically look at the company's balance sheet to find the values of net fixed assets (also known as Property, Plant & Equipment or PP&E, net of depreciation) and total assets. These figures are then used to calculate the ratio of net fixed assets to total assets. Since the necessary financial data is not available in the provided resource, a confident answer cannot be given.\n",
      "\n",
      "\n",
      "SUPPORTING QUESTION/TASK #2:\n",
      "What is the capital expenditure relative to total net sales for 3M in FY2022?\n",
      "\n",
      "SUPPORTING RESULT #2:\n",
      "To determine the capital expenditure relative to total net sales for 3M in FY2022, we need to find the specific values for capital expenditures (CapEx) and total net sales from 3M's financial statements for the fiscal year 2022. According to the information provided from the resource named '3M_2022_10K', 3M's capital expenditure in FY2022 was approximately $1.5 billion to $1.8 billion. However, the specific value for total net sales is not provided in the given information. To calculate the ratio of capital expenditure to total net sales, we would typically use the formula:\n",
      "\n",
      "CapEx to Sales Ratio = Capital Expenditure / Total Net Sales\n",
      "\n",
      "Since we have the range for capital expenditure but not the exact figure for total net sales, we cannot calculate the exact ratio. However, if we had the total net sales figure, we could divide the given range of capital expenditure by the total net sales to find the ratio. For example, if total net sales were $X billion, the ratio would be calculated as $1.5 billion / $X billion to $1.8 billion / $X billion.\n",
      "\n",
      "Without the specific value for total net sales, we cannot provide a concrete numerical ratio. To obtain a confident answer, one would need to refer to the income statement or the consolidated statement of earnings in 3M's FY2022 10-K report to find the exact figure for total net sales.\n",
      "\n",
      "\n",
      "SUPPORTING QUESTION/TASK #3:\n",
      "What is the capital intensity ratio for 3M in FY2022?\n",
      "\n",
      "SUPPORTING RESULT #3:\n",
      "The capital intensity ratio for 3M in FY2022 can be calculated using the formula for the Capital Intensity Ratio, which is Total Assets divided by Total Net Sales. According to the provided information from the resource named '3M_2022_10K', the purchases of property, plant, and equipment (PP&E) for 2022 amounted to $1,749 million, and the Total Company net sales for 2022 are stated as $34,229 million. However, it's important to note that the capital intensity ratio is not calculated using capital expenditures (CapEx) but rather using total assets. Therefore, to calculate the capital intensity ratio, we would need the value of 3M's total assets for FY2022. Since the provided information does not include the value of total assets, we cannot calculate the capital intensity ratio. To obtain this value, one would need to refer to the balance sheet in 3M's FY2022 10-K report. Without the specific value for total assets, we cannot provide a concrete numerical ratio for the capital intensity ratio.\n",
      "\n",
      "\n",
      "SUPPORTING QUESTION/TASK #4:\n",
      "What is the return on assets (RoA) for 3M in FY2022?\n",
      "\n",
      "SUPPORTING RESULT #4:\n",
      "The return on assets (RoA) for 3M in FY2022 is 9.6%. This value is obtained directly from the informational resource named '3M_2022_10K'. The RoA is a financial metric that measures the efficiency of a company's use of its assets to generate earnings. It is calculated by dividing the net income by the average total assets. The specific formula for RoA is:\n",
      "\n",
      "RoA = Net Income / Average Total Assets\n",
      "\n",
      "In this case, the informational resource '3M_2022_10K' has provided the RoA as a concrete value, so there is no need to calculate it from individual components. The value of 9.6% represents the proportion of net income generated for every dollar of assets owned by 3M in FY2022. This metric is useful for investors and analysts to assess the profitability and asset efficiency of the company.\n",
      "\u001b[0m\n"
     ]
    }
   ],
   "source": [
    "auto_htp_agent_with_knowledge = Agent(planner=AutoHTPlanner(max_depth=2, max_subtasks_per_decomp=4),\n",
    "                                      reasoner=OodaReasoner(),\n",
    "                                      knowledge=EXPERT_KNOWLEDGE_SET,\n",
    "                                      resources={FileResource(path=DOC_PATH)})\n",
    "\n",
    "auto_htp_agent_with_knowledge_solution = auto_htp_agent_with_knowledge.solve(problem=PROBLEM,\n",
    "                                                                             plan=None,\n",
    "                                                                             dynamic=False)"
   ]
  },
  {
   "cell_type": "markdown",
   "metadata": {},
   "source": [
    "You can read the full logs of all the intermediate steps in `logs/auto_htp_agent_with_knowledge_logs.txt`"
   ]
  },
  {
   "cell_type": "code",
   "execution_count": 15,
   "metadata": {},
   "outputs": [
    {
     "name": "stdout",
     "output_type": "stream",
     "text": [
      "PROBLEM: \n",
      "================================================================================\n",
      "Is 3M a capital-intensive business based on FY2022 data? \n",
      "\n",
      "GROUND TRUTH ANSWER: \n",
      "================================================================================\n",
      "\n",
      "    No, the company is managing its CAPEX and Fixed Assets pretty efficiently,\n",
      "    which is evident from below key metrics:\n",
      "    CAPEX/Revenue Ratio: 5.1%\n",
      "    Fixed assets/Total Assets: 20%\n",
      "    Return on Assets= 12.4% \n",
      "\n",
      "AUTO HTP AGENT WITH KNOWLEDGE SOLUTION SUMMARIZED:\n",
      "================================================================================\n",
      "EMPTY\n",
      "EMPTY\n",
      "To evaluate 3M's capital intensity, we need to consider various metrics,\n",
      "including the return on assets (RoA), the proportion of net fixed assets to\n",
      "total assets, the capital expenditure relative to total net sales, and the\n",
      "capital intensity ratio. Based on the provided FY2022 data, 3M's RoA is 9.6%,\n",
      "which is slightly below the 10% threshold that might indicate capital intensity.\n",
      "The capital expenditure relative\n"
     ]
    }
   ],
   "source": [
    "print_solution(auto_htp_agent_with_knowledge_solution)"
   ]
  },
  {
   "cell_type": "markdown",
   "metadata": {},
   "source": [
    "We can see when breaking down the task into other sub-tasks, the agent gives more concrete reasons to answer the question: `key financial metrics such as the\n",
    "proportion of net fixed assets to total assets, capital expenditure relative to\n",
    "total net sales, depreciation and amortization expense as a percentage of total\n",
    "net sales, and Return on Assets cannot be calculated without specific financial\n",
    "data`. However, the final answer is still incorrect - the agent still fails to answer 3M is not a capital-intensive business."
   ]
  },
  {
   "cell_type": "markdown",
   "metadata": {},
   "source": [
    "## Let's Upgrade the Agent to Solve the Problem Dynamically"
   ]
  },
  {
   "cell_type": "markdown",
   "metadata": {},
   "source": [
    "Let's enable another `HTP` component: `Dynamic` solving. When a problem is solved dynamically, it would be decomposed further if the sub-tasks are still not solvable.\n",
    "\n",
    "\n",
    "<img src=\"./FinanceBench/diagrams/dynamic-auto-htp-agent-with-knowledge.png\" height=\"100\" />"
   ]
  },
  {
   "cell_type": "code",
   "execution_count": 16,
   "metadata": {},
   "outputs": [],
   "source": [
    "dynamic_auto_htp_agent_with_knowledge = Agent(planner=AutoHTPlanner(max_depth=2, max_subtasks_per_decomp=4),\n",
    "                reasoner=OodaReasoner(),\n",
    "                knowledge=EXPERT_KNOWLEDGE_SET,\n",
    "                resources={FileResource(path=DOC_PATH)})\n",
    "\n",
    "dynamic_auto_htp_agent_with_knowledge_solution = dynamic_auto_htp_agent_with_knowledge.solve(problem=PROBLEM,\n",
    "                                                                                             plan=None,\n",
    "                                                                                             dynamic=True)"
   ]
  },
  {
   "cell_type": "code",
   "execution_count": 17,
   "metadata": {},
   "outputs": [
    {
     "name": "stdout",
     "output_type": "stream",
     "text": [
      "PROBLEM: \n",
      "================================================================================\n",
      "Is 3M a capital-intensive business based on FY2022 data? \n",
      "\n",
      "GROUND TRUTH ANSWER: \n",
      "================================================================================\n",
      "\n",
      "    No, the company is managing its CAPEX and Fixed Assets pretty efficiently,\n",
      "    which is evident from below key metrics:\n",
      "    CAPEX/Revenue Ratio: 5.1%\n",
      "    Fixed assets/Total Assets: 20%\n",
      "    Return on Assets= 12.4% \n",
      "\n",
      "DYNAMIC AUTO HTP AGENT WITH KNOWLEDGE SOLUTION SUMMARIZED:\n",
      "================================================================================\n",
      "EMPTY\n",
      "EMPTY\n",
      "Based on the provided text, determining if 3M is a capital-intensive business in\n",
      "FY2022 requires calculating the CapEx to sales ratio and the total assets to\n",
      "sales ratio using the company's capital expenditures of $1,749 million and total\n",
      "net operating revenues for that period. However, without this information, we\n",
      "cannot make a definitive conclusion. The absence of total debt and total capital\n",
      "makes it impossible to assess the company\n"
     ]
    }
   ],
   "source": [
    "print_solution(dynamic_auto_htp_agent_with_knowledge_solution)"
   ]
  },
  {
   "cell_type": "markdown",
   "metadata": {},
   "source": [
    "With the added knowledge, neither solving statistically nore dynamically could help the agent to get to the final answer correctly. Let's customize the most powerful component of `HTP`: the plan."
   ]
  },
  {
   "cell_type": "markdown",
   "metadata": {},
   "source": [
    "## Incorporating Expert HTP instead of Auto-HTP"
   ]
  },
  {
   "cell_type": "markdown",
   "metadata": {},
   "source": [
    "With OpenSSA, the user can customize the plan instead of depending on the auto-generated plan. Let's add an expert plan on top of our beginning Base Agent to see how it performs. \n",
    "\n",
    "<img src=\"./FinanceBench/diagrams/expert-htp-agent.png\" height=\"100\" />"
   ]
  },
  {
   "cell_type": "markdown",
   "metadata": {},
   "source": [
    "We've prepared a sample expert plan, but please feel free to customize the expert plan yourself."
   ]
  },
  {
   "cell_type": "code",
   "execution_count": 18,
   "metadata": {},
   "outputs": [],
   "source": [
    "variables = {\n",
    "    'COMPANY': '3M',\n",
    "    'PERIOD': '2022'\n",
    "}\n",
    "\n",
    "with open('sample_data/expert-plan-templates-sample.yml', 'r') as file:\n",
    "    EXPERT_PLAN_TEMPLATES_CONTENT = file.read()\n",
    "EXPERT_PLAN_TEMPLATES_CONTENT = EXPERT_PLAN_TEMPLATES_CONTENT.format(**variables)\n",
    "EXPERT_PLAN = yaml.safe_load(EXPERT_PLAN_TEMPLATES_CONTENT)\n",
    "\n",
    "EXPERT_HTP =  HTP(task=Task.from_dict_or_str(EXPERT_PLAN['task']),\n",
    "                   sub_plans=[HTP.from_dict(d) for d in EXPERT_PLAN.get('sub-plans', [])])"
   ]
  },
  {
   "cell_type": "code",
   "execution_count": 19,
   "metadata": {},
   "outputs": [
    {
     "name": "stderr",
     "output_type": "stream",
     "text": [
      "\u001b[32m2024-06-30 15:18:54.660\u001b[0m | \u001b[1mINFO    \u001b[0m | \u001b[36mopenssa.l2.agent.agent\u001b[0m:\u001b[36msolve\u001b[0m:\u001b[36m158\u001b[0m - \u001b[1m\n",
      "GLOBAL TASK PLANNING\n",
      "====================\n",
      "\n",
      "PLAN(task=Assess whether 3M is capital-intensive according to 2022 fiscal period data,\n",
      "     subs=[ PLAN(task=What are values in dollars of:\n",
      "                      - `(Net) Fixed Assets, a.k.a. (Net) Property, Plant & Equipment (PP&E)`; and\n",
      "                      - `Total Assets`\n",
      "                      (or most similar-meaning reported line item to those)\n",
      "                      \n",
      "                      on one same `(Consolidated) Balance Sheet, a.k.a. Statement of (Consolidated) Financial \n",
      "                      Position`\n",
      "                      (or most similar-meaning statement) of 3M\n",
      "                      (and NOT Balance Sheets of its acquired and/or divested companies)\n",
      "                      \n",
      "                      as at following two annual fiscal period ends:\n",
      "                      - previous annual fiscal period end immediately preceding 2022; and\n",
      "                      - current 2022 annual fiscal period end?),\n",
      "            PLAN(task=What is value in dollars of `Capital Expenditure(s), a.k.a. CapEx, or Capital Spending, or \n",
      "                      Property, Plant & Equipment (PP&E) Expenditure(s)/Purchase(s)` (or most similar-meaning \n",
      "                      reported line item)\n",
      "                      on `(Consolidated) Cash Flow(s) Statement(s), a.k.a. (Consolidated) Statement(s) of Cash Flows` \n",
      "                      (or most similar-meaning statement)\n",
      "                      of 3M for 2022 fiscal period?),\n",
      "            PLAN(task=What are values in dollars of:\n",
      "                      - `(Total) (Net) (Operating) Revenue(s), a.k.a. (Total) (Net) Sales`; and\n",
      "                      - `Net Income, a.k.a. Net Profit, or Net Earnings (or Loss(es)) (Attributable to \n",
      "                      Shareholders)`\n",
      "                      (or most similar-meaning reported line items to those)\n",
      "                      \n",
      "                      on `(Consolidated) Income Statement, a.k.a. (Consolidated) Profit-and-Loss (P&L) Statement,\n",
      "                      or (Consolidated) Earnings Statement, or (Consolidated) Operations Statement`\n",
      "                      (or most similar-meaning statement)\n",
      "                      \n",
      "                      of 3M for 2022 fiscal period?),\n",
      "            PLAN(task=Assess whether 3M is capital-intensive according to 2022 fiscal period data\n",
      "                      \n",
      "                      Capital-intensive businesses tend to have one or several of the following characteristics:\n",
      "                      \n",
      "                      - high `(Net) Fixed Assets, a.k.a. (Net) Property, Plant & Equipment (PP&E)` as proportion of \n",
      "                      `Total Assets`,\n",
      "                        e.g., over 25%;\n",
      "                      \n",
      "                      - high `Total Assets` relative to `(Total) (Net) (Operating) Revenue(s), a.k.a. (Total) (Net) \n",
      "                      Sales`,\n",
      "                        e.g., over 2 times;\n",
      "                      \n",
      "                      - high `Capital Expenditure(s), a.k.a. CapEx, or Capital Spending, or Property, Plant & \n",
      "                      Equipment (PP&E) Expenditure(s)/Purchase(s)`\n",
      "                        relative to `(Total) (Net) (Operating) Revenue(s), a.k.a. (Total) (Net) Sales`,\n",
      "                        e.g., over 10%;\n",
      "                      \n",
      "                        and/or\n",
      "                      \n",
      "                      - low `Return on (Total) Assets, a.k.a. RoA or RoTA`,\n",
      "                        e.g., under 10%,\n",
      "                        according to formula:\n",
      "                      \n",
      "                        `Return on (Total) Assets, a.k.a. RoA or RoTA` = (\n",
      "                          `Net Income, a.k.a. Net Profit, or Net Earnings (or Loss(es)) (Attributable to \n",
      "                      Shareholders)` /\n",
      "                          `average Total Assets, typically between two consecutive fiscal year-ends`\n",
      "                        ))])\n",
      "\u001b[0m\n",
      "  0%|          | 0/4 [00:00<?, ?it/s]\u001b[32m2024-06-30 15:19:22.479\u001b[0m | \u001b[34m\u001b[1mDEBUG   \u001b[0m | \u001b[36mopenssa.l2.planning.hierarchical.plan\u001b[0m:\u001b[36mexecute\u001b[0m:\u001b[36m127\u001b[0m - \u001b[34m\u001b[1m\n",
      "TASK-LEVEL REASONING\n",
      "====================\n",
      "\n",
      "WHAT ARE VALUES IN DOLLARS OF:\n",
      "- `(NET) FIXED ASSETS, A.K.A. (NET) PROPERTY, PLANT & EQUIPMENT (PP&E)`; AND\n",
      "- `TOTAL ASSETS`\n",
      "(OR MOST SIMILAR-MEANING REPORTED LINE ITEM TO THOSE)\n",
      "\n",
      "ON ONE SAME `(CONSOLIDATED) BALANCE SHEET, A.K.A. STATEMENT OF (CONSOLIDATED) FINANCIAL POSITION`\n",
      "(OR MOST SIMILAR-MEANING STATEMENT) OF 3M\n",
      "(AND NOT BALANCE SHEETS OF ITS ACQUIRED AND/OR DIVESTED COMPANIES)\n",
      "\n",
      "AS AT FOLLOWING TWO ANNUAL FISCAL PERIOD ENDS:\n",
      "- PREVIOUS ANNUAL FISCAL PERIOD END IMMEDIATELY PRECEDING 2022; AND\n",
      "- CURRENT 2022 ANNUAL FISCAL PERIOD END?\n",
      "--------------------------\n",
      "Based on the information provided from the '3M_2022_10K' resource, the values in dollars for the line items requested from 3M's Consolidated Balance Sheet for the two specified annual fiscal period ends are as follows:\n",
      "\n",
      "For the annual fiscal period end immediately preceding 2022:\n",
      "- Net Property, Plant & Equipment (PP&E): $9,429 million\n",
      "- Total Assets: $47,072 million\n",
      "\n",
      "For the current 2022 annual fiscal period end:\n",
      "- Net Property, Plant & Equipment (PP&E): $9,178 million\n",
      "- Total Assets: $46,455 million\n",
      "\n",
      "These figures are taken directly from the 3M's 10-K filing for the year 2022, which typically includes the company's audited financial statements, including the Consolidated Balance Sheet. The values provided are specific and respond to the rigorous criteria defined in the question, which requires the most recent figures for Net Fixed Assets (Net PP&E) and Total Assets from 3M's Consolidated Balance Sheet for the two most recent fiscal year ends. Therefore, the answer is confident and based on the authoritative source of 3M's official financial disclosures.\n",
      "\u001b[0m\n",
      " 25%|██▌       | 1/4 [00:13<00:40, 13.37s/it]\u001b[32m2024-06-30 15:19:31.433\u001b[0m | \u001b[34m\u001b[1mDEBUG   \u001b[0m | \u001b[36mopenssa.l2.planning.hierarchical.plan\u001b[0m:\u001b[36mexecute\u001b[0m:\u001b[36m127\u001b[0m - \u001b[34m\u001b[1m\n",
      "TASK-LEVEL REASONING\n",
      "====================\n",
      "\n",
      "WHAT IS VALUE IN DOLLARS OF `CAPITAL EXPENDITURE(S), A.K.A. CAPEX, OR CAPITAL SPENDING, OR PROPERTY, PLANT & EQUIPMENT (PP&E) EXPENDITURE(S)/PURCHASE(S)` (OR MOST SIMILAR-MEANING REPORTED LINE ITEM)\n",
      "ON `(CONSOLIDATED) CASH FLOW(S) STATEMENT(S), A.K.A. (CONSOLIDATED) STATEMENT(S) OF CASH FLOWS` (OR MOST SIMILAR-MEANING STATEMENT)\n",
      "OF 3M FOR 2022 FISCAL PERIOD?\n",
      "--------------------------\n",
      "The value in dollars of Capital Expenditures (CapEx) for 3M in the 2022 fiscal period, as reported on the Consolidated Statement of Cash Flows, is $1,749 million. This figure represents the amount 3M spent on property, plant, and equipment (PP&E) during the year. The information is sourced from the '3M_2022_10K' resource, which contains details on 3M's financial performance, including their financial statements. The reported CapEx value is a concrete number that directly answers the question posed, and it is based on 3M's audited financial data for the 2022 fiscal period, providing a confident and reliable answer.\n",
      "\u001b[0m\n",
      " 50%|█████     | 2/4 [00:22<00:21, 10.77s/it]\u001b[32m2024-06-30 15:19:45.610\u001b[0m | \u001b[34m\u001b[1mDEBUG   \u001b[0m | \u001b[36mopenssa.l2.planning.hierarchical.plan\u001b[0m:\u001b[36mexecute\u001b[0m:\u001b[36m127\u001b[0m - \u001b[34m\u001b[1m\n",
      "TASK-LEVEL REASONING\n",
      "====================\n",
      "\n",
      "WHAT ARE VALUES IN DOLLARS OF:\n",
      "- `(TOTAL) (NET) (OPERATING) REVENUE(S), A.K.A. (TOTAL) (NET) SALES`; AND\n",
      "- `NET INCOME, A.K.A. NET PROFIT, OR NET EARNINGS (OR LOSS(ES)) (ATTRIBUTABLE TO SHAREHOLDERS)`\n",
      "(OR MOST SIMILAR-MEANING REPORTED LINE ITEMS TO THOSE)\n",
      "\n",
      "ON `(CONSOLIDATED) INCOME STATEMENT, A.K.A. (CONSOLIDATED) PROFIT-AND-LOSS (P&L) STATEMENT,\n",
      "OR (CONSOLIDATED) EARNINGS STATEMENT, OR (CONSOLIDATED) OPERATIONS STATEMENT`\n",
      "(OR MOST SIMILAR-MEANING STATEMENT)\n",
      "\n",
      "OF 3M FOR 2022 FISCAL PERIOD?\n",
      "--------------------------\n",
      "Based on the information provided from the '3M_2022_10K' resource, the values in dollars for the specified line items on the Consolidated Income Statement of 3M for the 2022 fiscal period are as follows:\n",
      "\n",
      "- Total Net Sales: $34,229 million\n",
      "- Net Income attributable to 3M common shareholders: $5,777 million\n",
      "\n",
      "These figures are taken directly from the 3M's 10-K filing for the year 2022, which includes the company's audited financial statements. The Total Net Sales, also known as Total Net Operating Revenues or Total Net Sales, is the revenue generated from the sale of goods and services after deducting returns, allowances, and discounts. The Net Income, also referred to as Net Profit or Net Earnings, is the profit remaining after all expenses, taxes, and costs have been subtracted from the Total Net Sales. The value reported for Net Income is specifically attributable to 3M common shareholders, which means it accounts for the net earnings that are available to the owners of common stock in the company.\n",
      "\n",
      "The provided values respond to the rigorous criteria defined in the question, which requires the most recent figures for Total Net Sales and Net Income from 3M's Consolidated Income Statement for the 2022 fiscal year end. Therefore, the answer is confident and based on the authoritative source of 3M's official financial disclosures.\n",
      "\u001b[0m\n",
      " 75%|███████▌  | 3/4 [00:36<00:12, 12.33s/it]\u001b[32m2024-06-30 15:20:11.461\u001b[0m | \u001b[34m\u001b[1mDEBUG   \u001b[0m | \u001b[36mopenssa.l2.planning.hierarchical.plan\u001b[0m:\u001b[36mexecute\u001b[0m:\u001b[36m127\u001b[0m - \u001b[34m\u001b[1m\n",
      "TASK-LEVEL REASONING\n",
      "====================\n",
      "\n",
      "ASSESS WHETHER 3M IS CAPITAL-INTENSIVE ACCORDING TO 2022 FISCAL PERIOD DATA\n",
      "\n",
      "CAPITAL-INTENSIVE BUSINESSES TEND TO HAVE ONE OR SEVERAL OF THE FOLLOWING CHARACTERISTICS:\n",
      "\n",
      "- HIGH `(NET) FIXED ASSETS, A.K.A. (NET) PROPERTY, PLANT & EQUIPMENT (PP&E)` AS PROPORTION OF `TOTAL ASSETS`,\n",
      "  E.G., OVER 25%;\n",
      "\n",
      "- HIGH `TOTAL ASSETS` RELATIVE TO `(TOTAL) (NET) (OPERATING) REVENUE(S), A.K.A. (TOTAL) (NET) SALES`,\n",
      "  E.G., OVER 2 TIMES;\n",
      "\n",
      "- HIGH `CAPITAL EXPENDITURE(S), A.K.A. CAPEX, OR CAPITAL SPENDING, OR PROPERTY, PLANT & EQUIPMENT (PP&E) EXPENDITURE(S)/PURCHASE(S)`\n",
      "  RELATIVE TO `(TOTAL) (NET) (OPERATING) REVENUE(S), A.K.A. (TOTAL) (NET) SALES`,\n",
      "  E.G., OVER 10%;\n",
      "\n",
      "  AND/OR\n",
      "\n",
      "- LOW `RETURN ON (TOTAL) ASSETS, A.K.A. ROA OR ROTA`,\n",
      "  E.G., UNDER 10%,\n",
      "  ACCORDING TO FORMULA:\n",
      "\n",
      "  `RETURN ON (TOTAL) ASSETS, A.K.A. ROA OR ROTA` = (\n",
      "    `NET INCOME, A.K.A. NET PROFIT, OR NET EARNINGS (OR LOSS(ES)) (ATTRIBUTABLE TO SHAREHOLDERS)` /\n",
      "    `AVERAGE TOTAL ASSETS, TYPICALLY BETWEEN TWO CONSECUTIVE FISCAL YEAR-ENDS`\n",
      "  )\n",
      "--------------------------\n",
      "To assess whether 3M is capital-intensive according to the 2022 fiscal period data, we need to examine the provided data against the characteristics of capital-intensive businesses. The characteristics and the corresponding data for 3M are as follows:\n",
      "\n",
      "1. High Net Fixed Assets as a proportion of Total Assets: For the 2022 fiscal period end, 3M's Net PP&E was $9,178 million, and Total Assets were $46,455 million. The proportion is calculated as ($9,178 million / $46,455 million) * 100 = 19.76%. This is below the 25% threshold suggested in the criteria, so this characteristic does not indicate capital intensity according to the given definition.\n",
      "\n",
      "2. High Total Assets relative to Total Net Sales: Total Assets for 2022 were $46,455 million, and Total Net Sales were $34,229 million. The ratio is $46,455 million / $34,229 million = 1.36 times, which is below the 2 times threshold suggested. Therefore, this characteristic does not support the conclusion that 3M is capital-intensive according to the given definition.\n",
      "\n",
      "3. High Capital Expenditures relative to Total Net Sales: CapEx for 2022 was $1,749 million, and Total Net Sales were $34,229 million. The proportion is ($1,749 million / $34,229 million) * 100 = 5.11%. This is below the 10% threshold, so this characteristic also does not indicate capital intensity according to the given definition.\n",
      "\n",
      "4. Low Return on Total Assets (RoA): To calculate RoA, we use Net Income and average Total Assets. Net Income for 2022 was $5,777 million. The average Total Assets between the end of 2021 ($47,072 million) and 2022 ($46,455 million) is ($47,072 million + $46,455 million) / 2 = $46,763.5 million. The RoA is then ($5,777 million / $46,763.5 million) * 100 = 12.36%. This is above the 10% threshold, indicating that 3M is not considered to have a low RoA according to the given definition.\n",
      "\n",
      "Based on the rigorous criteria provided, 3M does not meet the thresholds that would classify it as a capital-intensive business according to the 2022 fiscal period data. The Net PP&E as a proportion of Total Assets is below 25%, the Total Assets relative to Total Net Sales is less than 2 times, the Capital Expenditures relative to Total Net Sales is less than 10%, and the Return on Total Assets is above 10%. Therefore, according to the provided data and definitions, 3M is not considered capital-intensive for the 2022 fiscal period.\n",
      "\u001b[0m\n",
      "100%|██████████| 4/4 [01:02<00:00, 15.59s/it]\n",
      "\u001b[32m2024-06-30 15:20:28.694\u001b[0m | \u001b[34m\u001b[1mDEBUG   \u001b[0m | \u001b[36mopenssa.l2.planning.hierarchical.plan\u001b[0m:\u001b[36mexecute\u001b[0m:\u001b[36m110\u001b[0m - \u001b[34m\u001b[1m\n",
      "TASK-LEVEL REASONING with Supporting/Other Results\n",
      "==================================================\n",
      "\n",
      "PLAN(task=Assess whether 3M is capital-intensive according to 2022 fiscal period data,\n",
      "     subs=[ PLAN(task=What are values in dollars of:\n",
      "                      - `(Net) Fixed Assets, a.k.a. (Net) Property, Plant & Equipment (PP&E)`; and\n",
      "                      - `Total Assets`\n",
      "                      (or most similar-meaning reported line item to those)\n",
      "                      \n",
      "                      on one same `(Consolidated) Balance Sheet, a.k.a. Statement of (Consolidated) Financial \n",
      "                      Position`\n",
      "                      (or most similar-meaning statement) of 3M\n",
      "                      (and NOT Balance Sheets of its acquired and/or divested companies)\n",
      "                      \n",
      "                      as at following two annual fiscal period ends:\n",
      "                      - previous annual fiscal period end immediately preceding 2022; and\n",
      "                      - current 2022 annual fiscal period end?),\n",
      "            PLAN(task=What is value in dollars of `Capital Expenditure(s), a.k.a. CapEx, or Capital Spending, or \n",
      "                      Property, Plant & Equipment (PP&E) Expenditure(s)/Purchase(s)` (or most similar-meaning \n",
      "                      reported line item)\n",
      "                      on `(Consolidated) Cash Flow(s) Statement(s), a.k.a. (Consolidated) Statement(s) of Cash Flows` \n",
      "                      (or most similar-meaning statement)\n",
      "                      of 3M for 2022 fiscal period?),\n",
      "            PLAN(task=What are values in dollars of:\n",
      "                      - `(Total) (Net) (Operating) Revenue(s), a.k.a. (Total) (Net) Sales`; and\n",
      "                      - `Net Income, a.k.a. Net Profit, or Net Earnings (or Loss(es)) (Attributable to \n",
      "                      Shareholders)`\n",
      "                      (or most similar-meaning reported line items to those)\n",
      "                      \n",
      "                      on `(Consolidated) Income Statement, a.k.a. (Consolidated) Profit-and-Loss (P&L) Statement,\n",
      "                      or (Consolidated) Earnings Statement, or (Consolidated) Operations Statement`\n",
      "                      (or most similar-meaning statement)\n",
      "                      \n",
      "                      of 3M for 2022 fiscal period?),\n",
      "            PLAN(task=Assess whether 3M is capital-intensive according to 2022 fiscal period data\n",
      "                      \n",
      "                      Capital-intensive businesses tend to have one or several of the following characteristics:\n",
      "                      \n",
      "                      - high `(Net) Fixed Assets, a.k.a. (Net) Property, Plant & Equipment (PP&E)` as proportion of \n",
      "                      `Total Assets`,\n",
      "                        e.g., over 25%;\n",
      "                      \n",
      "                      - high `Total Assets` relative to `(Total) (Net) (Operating) Revenue(s), a.k.a. (Total) (Net) \n",
      "                      Sales`,\n",
      "                        e.g., over 2 times;\n",
      "                      \n",
      "                      - high `Capital Expenditure(s), a.k.a. CapEx, or Capital Spending, or Property, Plant & \n",
      "                      Equipment (PP&E) Expenditure(s)/Purchase(s)`\n",
      "                        relative to `(Total) (Net) (Operating) Revenue(s), a.k.a. (Total) (Net) Sales`,\n",
      "                        e.g., over 10%;\n",
      "                      \n",
      "                        and/or\n",
      "                      \n",
      "                      - low `Return on (Total) Assets, a.k.a. RoA or RoTA`,\n",
      "                        e.g., under 10%,\n",
      "                        according to formula:\n",
      "                      \n",
      "                        `Return on (Total) Assets, a.k.a. RoA or RoTA` = (\n",
      "                          `Net Income, a.k.a. Net Profit, or Net Earnings (or Loss(es)) (Attributable to \n",
      "                      Shareholders)` /\n",
      "                          `average Total Assets, typically between two consecutive fiscal year-ends`\n",
      "                        ))])\n",
      "\n",
      "ASSESS WHETHER 3M IS CAPITAL-INTENSIVE ACCORDING TO 2022 FISCAL PERIOD DATA\n",
      "--------------------------\n",
      "Based on the 2022 fiscal period data, 3M does not appear to be capital-intensive when assessed against the specific criteria provided. Here's a detailed analysis using the actual figures from 3M's financial statements:\n",
      "\n",
      "1. The proportion of Net Property, Plant & Equipment (PP&E) to Total Assets is one indicator of capital intensity. At the end of 2022, 3M's Net PP&E was $9,178 million, and its Total Assets were $46,455 million. Calculating the proportion ($9,178 million / $46,455 million) results in approximately 19.76%, which is below the 25% threshold that might suggest capital intensity.\n",
      "\n",
      "2. Comparing Total Assets to Total Net Sales provides another perspective on capital intensity. 3M's Total Assets were $46,455 million, while Total Net Sales amounted to $34,229 million. The ratio of Total Assets to Total Net Sales is approximately 1.36 times, which is less than the 2 times threshold that would indicate a high level of capital intensity.\n",
      "\n",
      "3. Capital Expenditures (CapEx) relative to Total Net Sales is also a critical measure. 3M's CapEx for 2022 was $1,749 million, and its Total Net Sales were $34,229 million. The CapEx to Total Net Sales ratio is about 5.11%, falling short of the 10% benchmark that would point to a capital-intensive operation.\n",
      "\n",
      "4. Return on Total Assets (RoA) is a measure of how efficiently a company uses its assets to generate earnings. The Net Income attributable to 3M common shareholders for 2022 was $5,777 million. To calculate RoA, we take the average of Total Assets at the end of 2021 ($47,072 million) and 2022 ($46,455 million), which is $46,763.5 million. The RoA is then calculated as ($5,777 million / $46,763.5 million) * 100, resulting in approximately 12.36%. This figure is above the 10% threshold, suggesting that 3M has a relatively efficient use of its assets, which is not characteristic of a capital-intensive company.\n",
      "\n",
      "In conclusion, according to the financial data from 3M's 2022 fiscal period and the specific criteria for assessing capital intensity, 3M does not meet the thresholds that would classify it as a capital-intensive business. The company's Net PP&E as a proportion of Total Assets, Total Assets relative to Total Net Sales, Capital Expenditures relative to Total Net Sales, and Return on Total Assets all fall below or exceed the respective thresholds that would indicate a capital-intensive nature.\n",
      "\n",
      " ^ \n",
      "/|\\\n",
      " | \n",
      "\n",
      "REASONING WITHOUT SUPPORTING/OTHER RESULTS (preliminary conclusions here can be overriden by more convincing supporting/other data):\n",
      "3M appears to be a capital-intensive company based on the information provided for the 2022 fiscal period. The company's significant investments in renewal and maintenance programs, growth initiatives, acquisitions, and strategic alliances indicate a substantial commitment to capital expenditures. Additionally, the company's investments in property, plant, and equipment, as well as the planned capital spending for 2023, further emphasize its capital-intensive nature.\n",
      "\n",
      "Furthermore, the company's balance sheet data reveals a substantial amount of total debt, which was approximately $15.9 billion at the end of 2022. This level of debt suggests that 3M relies on external financing to support its operations and growth initiatives, indicating a capital-intensive approach.\n",
      "\n",
      "Moreover, the company's focus on managing working capital assets like accounts receivable and inventory, as well as its emphasis on liquidity and financial flexibility, highlights the importance of efficient capital management in its operations. The detailed information provided on net debt, working capital, and balance sheet components further underscores the company's capital-intensive nature.\n",
      "\n",
      "In conclusion, based on the 2022 fiscal period data, 3M can be considered capital-intensive due to its significant investments in various initiatives, high levels of debt, and focus on managing working capital efficiently to support its operations and growth strategies.\n",
      "\n",
      "\n",
      "SUPPORTING QUESTION/TASK #1:\n",
      "What are values in dollars of:\n",
      "- `(Net) Fixed Assets, a.k.a. (Net) Property, Plant & Equipment (PP&E)`; and\n",
      "- `Total Assets`\n",
      "(or most similar-meaning reported line item to those)\n",
      "\n",
      "on one same `(Consolidated) Balance Sheet, a.k.a. Statement of (Consolidated) Financial Position`\n",
      "(or most similar-meaning statement) of 3M\n",
      "(and NOT Balance Sheets of its acquired and/or divested companies)\n",
      "\n",
      "as at following two annual fiscal period ends:\n",
      "- previous annual fiscal period end immediately preceding 2022; and\n",
      "- current 2022 annual fiscal period end?\n",
      "\n",
      "SUPPORTING RESULT #1:\n",
      "Based on the information provided from the '3M_2022_10K' resource, the values in dollars for the line items requested from 3M's Consolidated Balance Sheet for the two specified annual fiscal period ends are as follows:\n",
      "\n",
      "For the annual fiscal period end immediately preceding 2022:\n",
      "- Net Property, Plant & Equipment (PP&E): $9,429 million\n",
      "- Total Assets: $47,072 million\n",
      "\n",
      "For the current 2022 annual fiscal period end:\n",
      "- Net Property, Plant & Equipment (PP&E): $9,178 million\n",
      "- Total Assets: $46,455 million\n",
      "\n",
      "These figures are taken directly from the 3M's 10-K filing for the year 2022, which typically includes the company's audited financial statements, including the Consolidated Balance Sheet. The values provided are specific and respond to the rigorous criteria defined in the question, which requires the most recent figures for Net Fixed Assets (Net PP&E) and Total Assets from 3M's Consolidated Balance Sheet for the two most recent fiscal year ends. Therefore, the answer is confident and based on the authoritative source of 3M's official financial disclosures.\n",
      "\n",
      "\n",
      "SUPPORTING QUESTION/TASK #2:\n",
      "What is value in dollars of `Capital Expenditure(s), a.k.a. CapEx, or Capital Spending, or Property, Plant & Equipment (PP&E) Expenditure(s)/Purchase(s)` (or most similar-meaning reported line item)\n",
      "on `(Consolidated) Cash Flow(s) Statement(s), a.k.a. (Consolidated) Statement(s) of Cash Flows` (or most similar-meaning statement)\n",
      "of 3M for 2022 fiscal period?\n",
      "\n",
      "SUPPORTING RESULT #2:\n",
      "The value in dollars of Capital Expenditures (CapEx) for 3M in the 2022 fiscal period, as reported on the Consolidated Statement of Cash Flows, is $1,749 million. This figure represents the amount 3M spent on property, plant, and equipment (PP&E) during the year. The information is sourced from the '3M_2022_10K' resource, which contains details on 3M's financial performance, including their financial statements. The reported CapEx value is a concrete number that directly answers the question posed, and it is based on 3M's audited financial data for the 2022 fiscal period, providing a confident and reliable answer.\n",
      "\n",
      "\n",
      "SUPPORTING QUESTION/TASK #3:\n",
      "What are values in dollars of:\n",
      "- `(Total) (Net) (Operating) Revenue(s), a.k.a. (Total) (Net) Sales`; and\n",
      "- `Net Income, a.k.a. Net Profit, or Net Earnings (or Loss(es)) (Attributable to Shareholders)`\n",
      "(or most similar-meaning reported line items to those)\n",
      "\n",
      "on `(Consolidated) Income Statement, a.k.a. (Consolidated) Profit-and-Loss (P&L) Statement,\n",
      "or (Consolidated) Earnings Statement, or (Consolidated) Operations Statement`\n",
      "(or most similar-meaning statement)\n",
      "\n",
      "of 3M for 2022 fiscal period?\n",
      "\n",
      "SUPPORTING RESULT #3:\n",
      "Based on the information provided from the '3M_2022_10K' resource, the values in dollars for the specified line items on the Consolidated Income Statement of 3M for the 2022 fiscal period are as follows:\n",
      "\n",
      "- Total Net Sales: $34,229 million\n",
      "- Net Income attributable to 3M common shareholders: $5,777 million\n",
      "\n",
      "These figures are taken directly from the 3M's 10-K filing for the year 2022, which includes the company's audited financial statements. The Total Net Sales, also known as Total Net Operating Revenues or Total Net Sales, is the revenue generated from the sale of goods and services after deducting returns, allowances, and discounts. The Net Income, also referred to as Net Profit or Net Earnings, is the profit remaining after all expenses, taxes, and costs have been subtracted from the Total Net Sales. The value reported for Net Income is specifically attributable to 3M common shareholders, which means it accounts for the net earnings that are available to the owners of common stock in the company.\n",
      "\n",
      "The provided values respond to the rigorous criteria defined in the question, which requires the most recent figures for Total Net Sales and Net Income from 3M's Consolidated Income Statement for the 2022 fiscal year end. Therefore, the answer is confident and based on the authoritative source of 3M's official financial disclosures.\n",
      "\n",
      "\n",
      "SUPPORTING QUESTION/TASK #4:\n",
      "Assess whether 3M is capital-intensive according to 2022 fiscal period data\n",
      "\n",
      "Capital-intensive businesses tend to have one or several of the following characteristics:\n",
      "\n",
      "- high `(Net) Fixed Assets, a.k.a. (Net) Property, Plant & Equipment (PP&E)` as proportion of `Total Assets`,\n",
      "  e.g., over 25%;\n",
      "\n",
      "- high `Total Assets` relative to `(Total) (Net) (Operating) Revenue(s), a.k.a. (Total) (Net) Sales`,\n",
      "  e.g., over 2 times;\n",
      "\n",
      "- high `Capital Expenditure(s), a.k.a. CapEx, or Capital Spending, or Property, Plant & Equipment (PP&E) Expenditure(s)/Purchase(s)`\n",
      "  relative to `(Total) (Net) (Operating) Revenue(s), a.k.a. (Total) (Net) Sales`,\n",
      "  e.g., over 10%;\n",
      "\n",
      "  and/or\n",
      "\n",
      "- low `Return on (Total) Assets, a.k.a. RoA or RoTA`,\n",
      "  e.g., under 10%,\n",
      "  according to formula:\n",
      "\n",
      "  `Return on (Total) Assets, a.k.a. RoA or RoTA` = (\n",
      "    `Net Income, a.k.a. Net Profit, or Net Earnings (or Loss(es)) (Attributable to Shareholders)` /\n",
      "    `average Total Assets, typically between two consecutive fiscal year-ends`\n",
      "  )\n",
      "\n",
      "SUPPORTING RESULT #4:\n",
      "To assess whether 3M is capital-intensive according to the 2022 fiscal period data, we need to examine the provided data against the characteristics of capital-intensive businesses. The characteristics and the corresponding data for 3M are as follows:\n",
      "\n",
      "1. High Net Fixed Assets as a proportion of Total Assets: For the 2022 fiscal period end, 3M's Net PP&E was $9,178 million, and Total Assets were $46,455 million. The proportion is calculated as ($9,178 million / $46,455 million) * 100 = 19.76%. This is below the 25% threshold suggested in the criteria, so this characteristic does not indicate capital intensity according to the given definition.\n",
      "\n",
      "2. High Total Assets relative to Total Net Sales: Total Assets for 2022 were $46,455 million, and Total Net Sales were $34,229 million. The ratio is $46,455 million / $34,229 million = 1.36 times, which is below the 2 times threshold suggested. Therefore, this characteristic does not support the conclusion that 3M is capital-intensive according to the given definition.\n",
      "\n",
      "3. High Capital Expenditures relative to Total Net Sales: CapEx for 2022 was $1,749 million, and Total Net Sales were $34,229 million. The proportion is ($1,749 million / $34,229 million) * 100 = 5.11%. This is below the 10% threshold, so this characteristic also does not indicate capital intensity according to the given definition.\n",
      "\n",
      "4. Low Return on Total Assets (RoA): To calculate RoA, we use Net Income and average Total Assets. Net Income for 2022 was $5,777 million. The average Total Assets between the end of 2021 ($47,072 million) and 2022 ($46,455 million) is ($47,072 million + $46,455 million) / 2 = $46,763.5 million. The RoA is then ($5,777 million / $46,763.5 million) * 100 = 12.36%. This is above the 10% threshold, indicating that 3M is not considered to have a low RoA according to the given definition.\n",
      "\n",
      "Based on the rigorous criteria provided, 3M does not meet the thresholds that would classify it as a capital-intensive business according to the 2022 fiscal period data. The Net PP&E as a proportion of Total Assets is below 25%, the Total Assets relative to Total Net Sales is less than 2 times, the Capital Expenditures relative to Total Net Sales is less than 10%, and the Return on Total Assets is above 10%. Therefore, according to the provided data and definitions, 3M is not considered capital-intensive for the 2022 fiscal period.\n",
      "\u001b[0m\n"
     ]
    }
   ],
   "source": [
    "expert_htp_agent = Agent(planner=AutoHTPlanner(max_depth=2, max_subtasks_per_decomp=4),\n",
    "                         reasoner=OodaReasoner(),\n",
    "                         knowledge=None,\n",
    "                         resources={FileResource(path=DOC_PATH)})\n",
    "\n",
    "expert_htp_agent_solution = expert_htp_agent.solve(problem=PROBLEM,\n",
    "                                                   plan=EXPERT_HTP,\n",
    "                                                   dynamic=False)"
   ]
  },
  {
   "cell_type": "markdown",
   "metadata": {},
   "source": [
    "You can read the full logs of all the intermediate steps in `logs/expert_htp_agent_logs.txt`"
   ]
  },
  {
   "cell_type": "code",
   "execution_count": 20,
   "metadata": {},
   "outputs": [
    {
     "name": "stdout",
     "output_type": "stream",
     "text": [
      "PROBLEM: \n",
      "================================================================================\n",
      "Is 3M a capital-intensive business based on FY2022 data? \n",
      "\n",
      "GROUND TRUTH ANSWER: \n",
      "================================================================================\n",
      "\n",
      "    No, the company is managing its CAPEX and Fixed Assets pretty efficiently,\n",
      "    which is evident from below key metrics:\n",
      "    CAPEX/Revenue Ratio: 5.1%\n",
      "    Fixed assets/Total Assets: 20%\n",
      "    Return on Assets= 12.4% \n",
      "\n",
      "EXPERT HTP AGENT SOLUTION SUMMARIZED:\n",
      "================================================================================\n",
      "EMPTY\n",
      "EMPTY\n",
      "Based on the 2022 fiscal period data, 3M is not capital-intensive when assessed\n",
      "against the criteria of Net PP&E as a proportion of Total Assets being above\n",
      "25%, Total Assets relative to Total Net Sales being below 2 times, Capital\n",
      "Expenditures relative to Total Net Sales being below 10%, and Return on Total\n",
      "Assets being above 10%.\n"
     ]
    }
   ],
   "source": [
    "print_solution(expert_htp_agent_solution)"
   ]
  },
  {
   "cell_type": "markdown",
   "metadata": {},
   "source": [
    "Yay! By incorporating the expert's plan, we instantly get the correct answer! "
   ]
  },
  {
   "cell_type": "markdown",
   "metadata": {},
   "source": [
    "## Try It Yourself!"
   ]
  },
  {
   "cell_type": "markdown",
   "metadata": {},
   "source": [
    "So now you've learned how OpenSSA's `HTP` works. You can try different combination of knobs that you can turn, including:\n",
    "- auto-plan vs expert-plan\n",
    "- statistically solving vs dynamically solving\n",
    "- external knowledge vs no external knowledge"
   ]
  },
  {
   "cell_type": "markdown",
   "metadata": {},
   "source": [
    "Some tips and tricsk:\n",
    "- If you want the fastest way to be up and running with HTP with ok-performance: try auto-plan with added knowledge and dynamically solving.\n",
    "- If you want a sufficiently good result with least customization and runtime: try adding expert-plan without anything else\n",
    "_ If you want the best result: try adding expert-plan with knowledge and dynamically solving!\n"
   ]
  }
 ],
 "metadata": {
  "kernelspec": {
   "display_name": ".venv",
   "language": "python",
   "name": "python3"
  },
  "language_info": {
   "codemirror_mode": {
    "name": "ipython",
    "version": 3
   },
   "file_extension": ".py",
   "mimetype": "text/x-python",
   "name": "python",
   "nbconvert_exporter": "python",
   "pygments_lexer": "ipython3",
   "version": "3.12.4"
  }
 },
 "nbformat": 4,
 "nbformat_minor": 2
}
